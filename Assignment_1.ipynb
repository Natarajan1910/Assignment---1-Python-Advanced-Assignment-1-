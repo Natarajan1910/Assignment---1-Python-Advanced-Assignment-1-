{
 "cells": [
  {
   "cell_type": "code",
   "execution_count": null,
   "id": "6311809b",
   "metadata": {},
   "outputs": [],
   "source": [
    "Q1. What is the purpose of Python's OOP?\n",
    "\n",
    "Ans : \n",
    "    \n",
    "Object-oriented Programming (OOPs) is a programming paradigm that uses objects and classes in programming. \n",
    "It aims to implement real-world entities like inheritance, polymorphisms, encapsulation, etc in the python programming\n"
   ]
  },
  {
   "cell_type": "code",
   "execution_count": null,
   "id": "250eda35",
   "metadata": {},
   "outputs": [],
   "source": [
    "Q2. Where does an inheritance search look for an attribute?\n",
    "\n",
    "Ans : \n",
    "    \n",
    "All of these objects are namespaces (packages of variables), and the inheritance search is simply a search of the tree from bottom to top looking for the lowest occurrence of an attribute name.\n"
   ]
  },
  {
   "cell_type": "code",
   "execution_count": null,
   "id": "9121656b",
   "metadata": {},
   "outputs": [],
   "source": [
    "Q3. How do you distinguish between a class object and an instance object?\n",
    "\n",
    "Ans:\n",
    "    \n",
    "A class is a template for creating objects in program whereas the object is an instance of a class. A class is a logical entity while object is a physical entity. \n",
    "A class does not allocate memory space on the other hand object allocates memory space\n"
   ]
  },
  {
   "cell_type": "code",
   "execution_count": null,
   "id": "28618dac",
   "metadata": {},
   "outputs": [],
   "source": [
    "Q4. What makes the first argument in a class’s method function special?\n",
    "\n",
    "Ans : \n",
    "    \n",
    "The first argument of every class method, including init, is always a reference to the current instance of the class. \n",
    "By convention, this argument is always named self. In the init method, self refers to the newly created object; in other class methods. \n",
    "It refers to the instance whose method was called.\n"
   ]
  },
  {
   "cell_type": "code",
   "execution_count": null,
   "id": "64221fdd",
   "metadata": {},
   "outputs": [],
   "source": [
    "\n",
    "Q5. What is the purpose of the __init__ method?\n",
    "\n",
    "Ans : \n",
    "    \n",
    "When you make a new class in Python the first method likely make is the __init__ method. The __init__ method allows you to accept arguments to your class.\n",
    "\n",
    "More importantly, the __init__ method allows you to assign initial values to various attributes on your class instances.\n",
    "\n"
   ]
  },
  {
   "cell_type": "code",
   "execution_count": null,
   "id": "50d4e7b4",
   "metadata": {},
   "outputs": [],
   "source": [
    "\n",
    "Q6. What is the process for creating a class instance?\n",
    "\n",
    "Ans : \n",
    "    \n",
    "Call ClassName() to create a new instance of the class ClassName . To pass parameters to the class instance, the class must have an __init__() method. \n",
    "Pass the parameters in the constructor of the class.\n"
   ]
  },
  {
   "cell_type": "code",
   "execution_count": null,
   "id": "05762a01",
   "metadata": {},
   "outputs": [],
   "source": [
    "Q7. What is the process for creating a class?\n",
    "\n",
    "Ans:\n",
    "    \n",
    "To create a class, use the keyword class:\n",
    "    \n",
    "class Dog:\n",
    "  def __init__(self, name, age):\n",
    "    self.name = name\n",
    "    self.age = age"
   ]
  },
  {
   "cell_type": "code",
   "execution_count": null,
   "id": "e97da70a",
   "metadata": {},
   "outputs": [],
   "source": [
    "Q8. How would you define the superclasses of a class?\n",
    "\n",
    "Ans : \n",
    "    \n",
    "The class from which a class inherits is called the parent or superclass.\n",
    "A class which inherits from a superclass is called a subclass, also called heir class or child class"
   ]
  }
 ],
 "metadata": {
  "kernelspec": {
   "display_name": "Python 3",
   "language": "python",
   "name": "python3"
  },
  "language_info": {
   "codemirror_mode": {
    "name": "ipython",
    "version": 3
   },
   "file_extension": ".py",
   "mimetype": "text/x-python",
   "name": "python",
   "nbconvert_exporter": "python",
   "pygments_lexer": "ipython3",
   "version": "3.8.8"
  }
 },
 "nbformat": 4,
 "nbformat_minor": 5
}
